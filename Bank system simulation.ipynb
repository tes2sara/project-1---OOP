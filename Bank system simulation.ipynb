{
 "cells": [
  {
   "cell_type": "markdown",
   "id": "5782aeff",
   "metadata": {},
   "source": [
    "## Report and Sumilation on ABCBank IT System Prototype"
   ]
  },
  {
   "cell_type": "markdown",
   "id": "86ed72cb",
   "metadata": {},
   "source": [
    "### Summary\n",
    "\n",
    "> The aim of this report is to demonstrate the prototype for the ABCBank IT system. The prototype presented is based on the possibility of the Bank's future expansion. The report will focus on implementing the system design decisions and how the business decisions are reflected in the system.\n",
    "\n",
    ">The layout of the report is as follows:\n",
    ">* Shows how methods are composed to produce accounts for customers.\n",
    "\n",
    ">* The implementation of the diverse financial products.\n",
    "\n",
    ">* Demonstrate how type matching and adapting a method of the same kind of product can be used to create another object.\n",
    "\n",
    ">* How to count current, savings, and loan accounts and the benefit of doing so.\n",
    "\n",
    ">* how to ensure consistent account creation.\n",
    ">Demonstrate how to structure accounts based on their type for smooth communication.\n",
    "\n",
    ">* finally, how the observer pattern helps to track the base interest rate from a prime lending bank and how to wrap the interest in the home loan before adding an interest charge. \n"
   ]
  },
  {
   "cell_type": "markdown",
   "id": "8686a69c",
   "metadata": {},
   "source": [
    "### Financial Products "
   ]
  },
  {
   "cell_type": "markdown",
   "id": "7d335238",
   "metadata": {},
   "source": [
    "> The bank, at the moment, will have three distinguished products available for the customers: Current Account, Loan Account, and Savings Account. The design approach for the products is to use the Strategy Patten. Strategy pattern is a system design pattern that allows one to enclose tightly related products and select one during run time. \n",
    "\n",
    ">There are two essential principles of design here. The first is to identify what part of the code varies and separate it from what stays the same.\n",
    "\n",
    ">Secondly, use an interface or template to construct classes rather than implementing code to the actual class.   \n",
    "\n",
    "\n",
    "> Based on the assumption that the business design considers the three financial products as the base of the business, it is intuitive to encapsulate the products under class **BankAccount**. Class **BankAccount** has seven abstract(template) methods related to the products. \n",
    "\n",
    "> The abstract **__init__** method creates customers by adopting (encapsulating) the necessary information the particular account requires.\n",
    "\n",
    "> The abstract method **account** grants the instantiation (representation) of an object created by the **__init__** method to any customer's debit account. \n",
    "\n",
    "> The abstract method **loan** instantiate loan account. A loan account could use the **account** method. However, the decision is made to separate the two methods. The reason for that is that the underlying business logic of opening a customer debit and credit account is handled differently in the financial books of the **ABC Bank**. It is thus assumed that this business logic difference should be referenced in the account creation process. \n",
    "\n",
    "> The remaining abstract methods can be composed in any account creation. "
   ]
  },
  {
   "cell_type": "code",
   "execution_count": 2,
   "id": "e06f2e76",
   "metadata": {},
   "outputs": [],
   "source": [
    "from abc import ABCMeta, abstractmethod"
   ]
  },
  {
   "cell_type": "code",
   "execution_count": 3,
   "id": "3a534bb8",
   "metadata": {},
   "outputs": [],
   "source": [
    "class BankAccount:#template for ABCBank products\n",
    "    __metaclass__ = ABCMeta\n",
    "    \n",
    "    @abstractmethod\n",
    "    def __init__(self):        \n",
    "        self.__title = None\n",
    "        self.__FirstName = None\n",
    "        self.__SurName = None\n",
    "        self.__DOB = None\n",
    "        self.__personalId = None\n",
    "        self.__annual_salary =None\n",
    "    \n",
    "    @abstractmethod\n",
    "    def account(self,obj):\n",
    "        pass\n",
    "    \n",
    "    @abstractmethod\n",
    "    def loan(self):\n",
    "        pass\n",
    "    \n",
    "    @abstractmethod\n",
    "    def deposit(self, deposit = None):\n",
    "        pass \n",
    "    \n",
    "    @abstractmethod\n",
    "    def withdrawal(self,amount = None):\n",
    "        pass\n",
    "    \n",
    "    @abstractmethod\n",
    "    def update_account(self):\n",
    "        pass\n",
    "    \n",
    "    @abstractmethod\n",
    "    def debit_card(self):\n",
    "        pass"
   ]
  },
  {
   "cell_type": "markdown",
   "id": "25c40633",
   "metadata": {},
   "source": [
    "### Customer Object Creation Illstration "
   ]
  },
  {
   "cell_type": "markdown",
   "id": "30faba4a",
   "metadata": {},
   "source": [
    ">The following illustration aims to show how the system handles customer creation.\n",
    "\n",
    ">The main benefit of the template (abstract) **BankAccount** class is the ability to pick methods needed to compose different types of bank accounts at runtime.\n",
    "\n",
    "> The illustration shows an example of creating a customer Bronze Current Account by composing the **__init__** method of the template **BankAccount** class to create a customer and then adding the **account** method to create a whole Bronze Account for a particular customer. \n",
    "\n",
    "> This deployment is a powerful and flexible way of creating different products because it allows the customer account to be attached to any current or saving accounts and also to any loan accounts, provided that the customer has fulfilled the minimum requirements for the account\n",
    "\n",
    "\n",
    "> As the report advances, it will concentrate on the benefit of Object Oriented Design in the overall system flexibility and how its heterogeneity is ideally suited to create a well-maintained system. "
   ]
  },
  {
   "cell_type": "code",
   "execution_count": 4,
   "id": "d58a6a76",
   "metadata": {},
   "outputs": [],
   "source": [
    "class BronzeAccount(BankAccount):\n",
    "    \n",
    "    def __init__(self):\n",
    "        \n",
    "        self_title = None\n",
    "        self._FirstName = None\n",
    "        self._SurName = None\n",
    "        self.__DOB = None\n",
    "        self.__personalId = None\n",
    "        self.__annual_salary =None\n",
    "        \n",
    "        title_input = input(\"Select Title\\n Press 1 for Jr\\n Press 2 for Miss\\n Press 3 for Mrs.\\n Press 4 for Mr.\\n Press 5 for Ms.\\n \")\n",
    "        while ((title_input != \"1\") and (title_input != \"2\") and (title_input != \"3\") and (title_input != \"4\"))and (title_input != \"5\"):\n",
    "            title_input = input(\"Input: \")\n",
    "              \n",
    "        try:\n",
    "                if title_input == \"1\":\n",
    "                    title = \"Jr\"\n",
    "                elif title_input == \"2\":\n",
    "                    title = \"Miss\"\n",
    "                elif title_input == \"3\":\n",
    "                    title = \"Mrs.\"\n",
    "                elif title_input == \"4\":\n",
    "                    title = \"Mr.\"\n",
    "                elif title_input == \"5\":\n",
    "                    title = \"Ms.\"    \n",
    "                self._title = title\n",
    "        except:\n",
    "                raise Exception (\"Try to select again, Something went wrong.\")\n",
    "                \n",
    "        fname_input = ''\n",
    "        while True:\n",
    "            fname_input = input(\"Enter your first name: \").title()\n",
    "            \n",
    "            if not fname_input.isalpha():\n",
    "                raise Exception (\"Enter only alphabets.\")\n",
    "                continue\n",
    "                \n",
    "            else:\n",
    "                firstName = fname_input\n",
    "                self._FirstName = firstName\n",
    "                break\n",
    "                \n",
    "        sname_input = \"\"\n",
    "        while True:\n",
    "            sname_input = input(\"Enter your Surname: \").title()\n",
    "            \n",
    "            if not sname_input.isalpha():\n",
    "                raise Exception (\"Enter only alphabets.\")\n",
    "                continue\n",
    "                \n",
    "            else:\n",
    "                surName = sname_input\n",
    "                self._SurName = surName\n",
    "                break\n",
    "                \n",
    "        date_of_birth= \"\"\n",
    "        month_of_birth = \"\"\n",
    "        year_of_birth = \"\"\n",
    "        \n",
    "        while True:\n",
    "            date_of_birth  = int(input(\"Enter your date of birth as DD:\"))\n",
    "            if date_of_birth < 1 or date_of_birth > 31:\n",
    "                raise Exception(\"Please enter correct Date of Birth\")\n",
    "                \n",
    "            month_of_birth = int(input(\"Enter your month of birth as MM:\"))\n",
    "            if month_of_birth <1 or month_of_birth > 12:\n",
    "                raise Exception(\"Please enter correct month of Birth\")\n",
    "                \n",
    "            year_of_birth  = int(input(\"Enter your year of birth as YYYY:\"))\n",
    "            if year_of_birth <= 1922:\n",
    "                raise Exception(\"Please enter correct year of year:\")\n",
    "                \n",
    "            date_of_birth = str(date_of_birth)\n",
    "            if len(date_of_birth)>2:\n",
    "                raise Exception (\"Please enter date of birth in correct format.\")\n",
    "                \n",
    "            month_of_birth = str(month_of_birth)\n",
    "            if len(month_of_birth) > 2:\n",
    "                raise Exception (\"Please enter month of birth in correct format.\")\n",
    "                \n",
    "            year_of_birth = str(year_of_birth)\n",
    "            if len(year_of_birth) >4:\n",
    "                raise Exception(\"Please enter year of birth in correct format.\")\n",
    "            \n",
    "            if len(date_of_birth)!=2 and len(month_of_birth)!=2 and len(year_of_birth)!=4:                \n",
    "                raise Exception (\"Date and month of birth should be 2 digit and year of birth should be 4 digit number. \")\n",
    "                continue\n",
    "                \n",
    "            else:\n",
    "                date_of_birth=date_of_birth.rjust(2,\"0\")\n",
    "                month_of_birth=date_of_birth.rjust(2,\"0\")\n",
    "                DOB = []\n",
    "                DOB.append(date_of_birth)\n",
    "                DOB.append(month_of_birth)\n",
    "                DOB.append(year_of_birth)\n",
    "                DOB_join = \"-\".join(DOB)         \n",
    "                self.__DOB = DOB_join\n",
    "                break\n",
    "        \n",
    "        \n",
    "        personalId_input = \"\"\n",
    "        while True:\n",
    "            personalId_input = str(input(\"Enter your 5 digit personal number: \"))\n",
    "            \n",
    "            if len(personalId_input)!= 5:\n",
    "                raise Exception (\"Please Enter the correct Personal Id.\")\n",
    "                continue\n",
    "            else:\n",
    "                personalId = DOB_join + personalId_input                \n",
    "                self.__personalId = personalId\n",
    "                break\n",
    "                \n",
    "        education_input = input(\"Select Education\\n Press 1 for Elementary\\n Press 2 for Secondary\\n Press 3 for Deploma\\n Press 4 for Undergraduate\\n Press 5 for Masters and above\\n\")\n",
    "        while ((education_input != \"1\") and (education_input != \"2\") and (education_input != \"3\") and (education_input != \"4\"))and (education_input != \"5\"):\n",
    "            education_input = input(\"Input: \")\n",
    "              \n",
    "        try:\n",
    "                if education_input == \"1\":\n",
    "                    education = \"Elementary\"\n",
    "                elif education_input == \"2\":\n",
    "                    education = \"Secondary\"\n",
    "                elif education_input == \"3\":\n",
    "                    education = \"Deploma\"\n",
    "                elif education_input == \"4\":\n",
    "                    education = \"Undergradute\"\n",
    "                elif education_input == \"5\":\n",
    "                    education = \"Above Masters\"\n",
    "                \n",
    "                   \n",
    "                self.__Education = education\n",
    "        except:\n",
    "                raise Exception (\"Try to select again, Something went wrong.\")\n",
    "                \n",
    "                \n",
    "            \n",
    "   \n",
    "        \n",
    "    def get_title(self):\n",
    "        return self._title\n",
    "    \n",
    "    def set_title(self, new_title):\n",
    "        self._title =new_title\n",
    "    \n",
    "    title = property(get_title,set_title)\n",
    "        \n",
    "        \n",
    "    def get_fname(self):\n",
    "        return self._FirstName\n",
    "    \n",
    "    def set_fname(self,new_fname):\n",
    "        new_fname1 = new_fname.title()\n",
    "        if not new_fname.isalpha():\n",
    "            raise Exception (\"New First name should only be alphabets.\")\n",
    "        else:\n",
    "            self._FirstName = new_fname1\n",
    "        \n",
    "    name = property(get_fname,set_fname)\n",
    "    \n",
    "    def get_sname(self):\n",
    "        return self._SurName\n",
    "    \n",
    "    def set_sname(self,new_sname):\n",
    "        new_sname1 = new_sname.title()\n",
    "        if not new_sname.isalpha():\n",
    "            raise Exception (\"New Surname should only be alphabets.\")\n",
    "        else:\n",
    "            self._SurName = new_sname1\n",
    "    surname = property(get_sname,set_sname)\n",
    "    \n",
    "    \n",
    "    \n",
    "    def get_DOB(self):\n",
    "        return self.__DOB\n",
    "    DOB = property(get_DOB)\n",
    "    \n",
    "    def get_personalId(self):\n",
    "        return self.__personalId    \n",
    "    personalId = property(get_personalId)\n",
    "    \n",
    "    def get_education(self):\n",
    "        return self.__Education\n",
    "    \n",
    "    def set_education(self, newlevel):\n",
    "        self.__education = newlevel\n",
    "    education = property(get_education,set_education)\n",
    "    \n",
    "    def account(self):\n",
    "        print (\"Bronze Account. Any one can get it.\") \n",
    "        \n",
    "    def __str__(self):\n",
    "        return \"Bronze Account\"\n",
    "\n",
    "    def deposit(self, deposit = None):\n",
    "        print(\"Deposit money here.\")\n",
    "    \n",
    "    \n",
    "    def withdrawal(self,amount = None):\n",
    "        print(\"Withdrawal upto you total balance here.\")\n",
    "        "
   ]
  },
  {
   "cell_type": "code",
   "execution_count": 6,
   "id": "4e09ee64",
   "metadata": {},
   "outputs": [
    {
     "name": "stdout",
     "output_type": "stream",
     "text": [
      "Select Title\n",
      " Press 1 for Jr\n",
      " Press 2 for Miss\n",
      " Press 3 for Mrs.\n",
      " Press 4 for Mr.\n",
      " Press 5 for Ms.\n",
      " 1\n",
      "Enter your first name: ss\n",
      "Enter your Surname: ee\n",
      "Enter your date of birth as DD:2\n",
      "Enter your month of birth as MM:3\n",
      "Enter your year of birth as YYYY:1940\n",
      "Enter your 5 digit personal number: 55555\n",
      "Select Education\n",
      " Press 1 for Elementary\n",
      " Press 2 for Secondary\n",
      " Press 3 for Deploma\n",
      " Press 4 for Undergraduate\n",
      " Press 5 for Masters and above\n",
      "1\n",
      "Name:Ss Ee\n",
      "Bronze Account. Any one can get it.\n",
      "Deposit money here.\n",
      "Withdrawal upto you total balance here.\n"
     ]
    }
   ],
   "source": [
    "customer = BronzeAccount()\n",
    "print(f'Name:{customer.name} {customer.surname}')\n",
    "customer.account()\n",
    "customer.deposit()\n",
    "customer.withdrawal()"
   ]
  },
  {
   "cell_type": "markdown",
   "id": "4417a471",
   "metadata": {},
   "source": [
    "### Account Creation Simulation1"
   ]
  },
  {
   "cell_type": "markdown",
   "id": "d409e95a",
   "metadata": {},
   "source": [
    ">The following illustration shows a simple current account creation. The critical point here is that if **ABC Bank** increased its current accounts, it would be easy to compose the new type of account by dynamically using the methods used in this illustration.  \n",
    "        "
   ]
  },
  {
   "cell_type": "code",
   "execution_count": 7,
   "id": "347b71ab",
   "metadata": {},
   "outputs": [],
   "source": [
    "class BronzeAccount(BankAccount): #concrete current accounts implementing the account abstract interface \n",
    "          \n",
    "    def account(self):\n",
    "        print (\"Bronze Account. Any one can get it.\")    \n",
    "    def __str__(self):\n",
    "        return \"Bronze Account\"\n",
    "    \n",
    "    def deposit(self, deposit = None):\n",
    "        print(\"Deposit money here.\")\n",
    "    \n",
    "    \n",
    "    def withdrawal(self,amount = None):\n",
    "        print(\"Withdrawal upto you total balance here.\")\n",
    "\n",
    "    \n",
    "class SilverAccount(BankAccount): \n",
    "    def account(self):\n",
    "        print(\"Silver Account. You have to earn minimun annual salary or have homeloan with ABCBank for ceratin minimum value.\")\n",
    "        \n",
    "    def __str__(self):\n",
    "        return \"Silver Account\"\n",
    "    \n",
    "    def deposit(self, deposit = None):\n",
    "        print(\"Deposit money here.\")\n",
    "    \n",
    "    \n",
    "    def withdrawal(self,amount = None):\n",
    "        print(\"Withdrawal upto you total balance here.\")\n",
    "    \n",
    "class GoldAccount(BankAccount):            \n",
    "    def account(self):\n",
    "        print(\"Gold Account. You have to earn minimun annual salary or have homeloan with ABCBank for ceratin minimum value.\")\n",
    "    def deposit(self, deposit = None):\n",
    "        print(\"Deposit money here.\")\n",
    "    \n",
    "    \n",
    "    def withdrawal(self,amount = None):\n",
    "        print(\"Withdrawal upto you total balance here.\")"
   ]
  },
  {
   "cell_type": "code",
   "execution_count": 8,
   "id": "9b3c1ee1",
   "metadata": {},
   "outputs": [],
   "source": [
    "class AccountSimulation1:\n",
    "    def simulate_current(self, current):\n",
    "        current.account()\n",
    "        \n",
    "    def simulate_acc(self):\n",
    "        bronze_account = BronzeAccount()\n",
    "        silver_account = SilverAccount()\n",
    "        gold_account = GoldAccount()\n",
    "        \n",
    "        print(\"\\nCurrent Accounts List Version 1.0\")\n",
    "        \n",
    "        self.simulate_current(bronze_account)\n",
    "        print(\" \")\n",
    "        self.simulate_current(silver_account)\n",
    "        print(\" \")\n",
    "        self.simulate_current(gold_account)\n",
    "          "
   ]
  },
  {
   "cell_type": "code",
   "execution_count": 9,
   "id": "931df5fc",
   "metadata": {},
   "outputs": [
    {
     "name": "stdout",
     "output_type": "stream",
     "text": [
      "\n",
      "Current Accounts List Version 1.0\n",
      "Bronze Account. Any one can get it.\n",
      " \n",
      "Silver Account. You have to earn minimun annual salary or have homeloan with ABCBank for ceratin minimum value.\n",
      " \n",
      "Gold Account. You have to earn minimun annual salary or have homeloan with ABCBank for ceratin minimum value.\n"
     ]
    }
   ],
   "source": [
    "simulator = AccountSimulation1()\n",
    "simulator.simulate_acc()"
   ]
  },
  {
   "cell_type": "markdown",
   "id": "7303c4b1",
   "metadata": {},
   "source": [
    "## Type Matching\n",
    "#### Business logic behind Asset Account and Credit Account "
   ]
  },
  {
   "cell_type": "markdown",
   "id": "e2a47b52",
   "metadata": {},
   "source": [
    "> ABCBank's products have two separate transactions that will be reflected in the annual financial statements. The asset accounts of the bank are the Loan accounts that are given out to customers. The loan accounts will increase the bank's current assets on its Balance Sheet. On the other hand, the current and saving accounts that the bank operates are taken as credit accounts in the bank's Balance Sheet. \n",
    "\n",
    "> The design of the It system reflects the business logic in its implementation. "
   ]
  },
  {
   "cell_type": "markdown",
   "id": "598f59b6",
   "metadata": {},
   "source": [
    "#### How?"
   ]
  },
  {
   "cell_type": "markdown",
   "id": "3b632079",
   "metadata": {},
   "source": [
    "> The class **BankAccount** has two methods for creating objects that reflect the business logic described above. The **account** method instantiate objects that reflect credit transaction, and **loan** method creates debit transactions in the Balance Sheet of the ABCBank.\n",
    "\n",
    "> This brings the idea of type matching. Type matching is classifying objects by which run-time behavior they should have based on the underlying characteristics of a group object. Based on this understanding, the prototype is designed to give access to the saving account through the method of **account** from class **BankAcount**. By doing so, it is possible to reduce the repetition of methods to create objects. \n",
    "\n",
    "> The following illustration will demonstrate the technique used to use the **account** method to create objects(individual accounts) of Pension saving accounts."
   ]
  },
  {
   "cell_type": "markdown",
   "id": "fd0c1fa9",
   "metadata": {},
   "source": [
    "### Account Simulation 2 (Account Adapter)"
   ]
  },
  {
   "cell_type": "code",
   "execution_count": 10,
   "id": "31a67b1e",
   "metadata": {},
   "outputs": [],
   "source": [
    "class Savings:\n",
    "    def PensionsSaving(self):\n",
    "        print (\"This account is locked until the customer reaches a certain minimun age.\")"
   ]
  },
  {
   "cell_type": "code",
   "execution_count": 11,
   "id": "76f26e1a",
   "metadata": {},
   "outputs": [],
   "source": [
    "class SavingsToBankAccountAdapter(BankAccount):\n",
    "    def __init__(self,pension):\n",
    "        self.__pension = pension\n",
    "        \n",
    "    def account(self):\n",
    "        return self.__pension.PensionsSaving()\n",
    "    def __str__(self):\n",
    "        print(\"Pension Saving account adapted method **account** from the abstract class **BankAccount\")"
   ]
  },
  {
   "cell_type": "code",
   "execution_count": 12,
   "id": "f35e3baa",
   "metadata": {},
   "outputs": [],
   "source": [
    "class AccountSimulation2:\n",
    "    def simulate_current(self, current):\n",
    "        current.account()\n",
    "        \n",
    "    def simulate_acc(self):\n",
    "        bronze_account = BronzeAccount()\n",
    "        silver_account = SilverAccount()\n",
    "        gold_account = GoldAccount()\n",
    "        saving_account = SavingsToBankAccountAdapter(Savings())\n",
    "        \n",
    "        print(\"\\nCurrent and Pension Accounts List Version 2.0 \\n\")\n",
    "        \n",
    "        self.simulate_current(bronze_account)\n",
    "        print(\" \")\n",
    "        self.simulate_current(silver_account)\n",
    "        print(\" \")\n",
    "        self.simulate_current(gold_account)\n",
    "        print(\" \")\n",
    "        self.simulate_current(saving_account)"
   ]
  },
  {
   "cell_type": "code",
   "execution_count": 13,
   "id": "c8747970",
   "metadata": {},
   "outputs": [
    {
     "name": "stdout",
     "output_type": "stream",
     "text": [
      "\n",
      "Current and Pension Accounts List Version 2.0 \n",
      "\n",
      "Bronze Account. Any one can get it.\n",
      " \n",
      "Silver Account. You have to earn minimun annual salary or have homeloan with ABCBank for ceratin minimum value.\n",
      " \n",
      "Gold Account. You have to earn minimun annual salary or have homeloan with ABCBank for ceratin minimum value.\n",
      " \n",
      "This account is locked until the customer reaches a certain minimun age.\n"
     ]
    }
   ],
   "source": [
    "simulator2 = AccountSimulation2()\n",
    "simulator2.simulate_acc()"
   ]
  },
  {
   "cell_type": "markdown",
   "id": "3c2d4f2b",
   "metadata": {},
   "source": [
    "## Loan Account Simulation 3"
   ]
  },
  {
   "cell_type": "code",
   "execution_count": 14,
   "id": "76b9a8d4",
   "metadata": {},
   "outputs": [],
   "source": [
    "class HomeLoan(BankAccount): \n",
    "    \n",
    "    def __init__(self):\n",
    "        self._name = None\n",
    "        self._surname = None\n",
    "        self.__age = None\n",
    "        self.__income = None\n",
    "        self.__maritalStatus=None\n",
    "        \n",
    "    def loan(self):\n",
    "        print(\"Mortgages given out by the ABCBank for reason of buying property. \")\n",
    "        \n",
    "    def deposit(self):\n",
    "        print(\"To qualify for morgage customer has to deposit certain percentage of the total loan.\")\n",
    "        \n",
    "    def __str__(self):\n",
    "        return \"Home Loan\"\n",
    "\n",
    "class CarLoan(BankAccount):\n",
    "    \n",
    "    def loan(self):\n",
    "        print(\"Car loan. Deposit is not required. Short repayment period.\")\n",
    "    def __str__(self):\n",
    "        return \"Car Loan\"\n",
    "\n",
    "class PersonalLoan(BankAccount):\n",
    "    \n",
    "    def loan(self):\n",
    "        print(\"Personal loan. Deposit is not required, Short repayment period.\")"
   ]
  },
  {
   "cell_type": "code",
   "execution_count": 15,
   "id": "05ab7e36",
   "metadata": {},
   "outputs": [],
   "source": [
    "class AccountSimulation3:\n",
    "    def simulate_current_loan(self, various):\n",
    "        various.loan()\n",
    "        print(\"\")\n",
    "        various.deposit()\n",
    "        \n",
    "    def simulate_loan(self):\n",
    "        home_loan = HomeLoan()\n",
    "        car_loan = CarLoan()\n",
    "        personal_loan = PersonalLoan()\n",
    "        \n",
    "        print(\"\\nTotal List of Loan Accounts Version 3.0 \\n\")\n",
    "        \n",
    "        self.simulate_current_loan(home_loan)\n",
    "        print(\"\")\n",
    "        self.simulate_current_loan(car_loan)\n",
    "        self.simulate_current_loan(personal_loan)"
   ]
  },
  {
   "cell_type": "code",
   "execution_count": 16,
   "id": "8792097f",
   "metadata": {},
   "outputs": [
    {
     "name": "stdout",
     "output_type": "stream",
     "text": [
      "\n",
      "Total List of Loan Accounts Version 3.0 \n",
      "\n",
      "Mortgages given out by the ABCBank for reason of buying property. \n",
      "\n",
      "To qualify for morgage customer has to deposit certain percentage of the total loan.\n",
      "\n",
      "Car loan. Deposit is not required. Short repayment period.\n",
      "\n",
      "Personal loan. Deposit is not required, Short repayment period.\n",
      "\n"
     ]
    }
   ],
   "source": [
    "simulator3 = AccountSimulation3()\n",
    "simulator3.simulate_loan()"
   ]
  },
  {
   "cell_type": "markdown",
   "id": "d3ab1e51",
   "metadata": {},
   "source": [
    "## Count The Current, Saving And Loan Accounts Provided "
   ]
  },
  {
   "cell_type": "markdown",
   "id": "eb3a5472",
   "metadata": {},
   "source": [
    "> The next design concept is called Decorator Pattern. The decorator pattern grants the object new functionality without changing the structure. \n",
    "> Analysis of how our banking service is doing is determined by how many current and saving accounts and different loans are issued by ABC Bank. To count accounts and loans given at any given time, it is essential to have a mechanism that counts account openings and loan issuings. \n",
    "\n",
    "> The decorator pattern is suitable to perform the count of the services when they are instantiated. The following demonstration will demonstrate the concept. \n"
   ]
  },
  {
   "cell_type": "markdown",
   "id": "e54f7c32",
   "metadata": {},
   "source": [
    "### Current and saving Account Counter Simulation4"
   ]
  },
  {
   "cell_type": "code",
   "execution_count": 17,
   "id": "280e4fd7",
   "metadata": {},
   "outputs": [],
   "source": [
    "class AccountCounter(BankAccount):\n",
    "    \n",
    "    number_of_accounts = 0\n",
    "    \n",
    "    def __init__(self, account):\n",
    "        self.__account = account        \n",
    "        \n",
    "    def account(self):        \n",
    "        AccountCounter.number_of_accounts +=1        \n",
    "        return self.__account.account()  \n",
    "    \n",
    "    @staticmethod\n",
    "    def get_account():\n",
    "        return AccountCounter.number_of_accounts\n",
    "  \n",
    "    def __str__(self):\n",
    "        return str(self.__account)"
   ]
  },
  {
   "cell_type": "code",
   "execution_count": 18,
   "id": "993d7281",
   "metadata": {},
   "outputs": [],
   "source": [
    "class LoanCounter(BankAccount):\n",
    "    number_of_loans = 0\n",
    "    \n",
    "    def __init__(self, loan):\n",
    "        self.__loan = loan\n",
    "        \n",
    "    def loan(self):        \n",
    "        LoanCounter.number_of_loans +=1\n",
    "        return self.__loan.loan()\n",
    "    \n",
    "    @staticmethod\n",
    "    def get_account():\n",
    "        return LoanCounter.number_of_loans\n",
    "    \n",
    "    def __str__(self):\n",
    "        return str(self.__loan)"
   ]
  },
  {
   "cell_type": "code",
   "execution_count": 19,
   "id": "a6db9b60",
   "metadata": {},
   "outputs": [],
   "source": [
    "class AccountSimulation4:\n",
    "    def simulate_accounts(self, count_account):\n",
    "        return count_account.account()\n",
    "        \n",
    "       \n",
    "    def simulate_service(self):\n",
    "        \n",
    "        bronze_account = AccountCounter(BronzeAccount())\n",
    "        silver_account = AccountCounter(SilverAccount())\n",
    "        gold_account = AccountCounter(GoldAccount())\n",
    "        saving_account = AccountCounter(SavingsToBankAccountAdapter(Savings()))\n",
    "         \n",
    "        print(\"\\nThe Number of Current and Saving Accounts Issued Version 4.0\\n\")\n",
    "        \n",
    "        self.simulate_accounts(bronze_account)\n",
    "        print(\" \")\n",
    "        self.simulate_accounts(silver_account)\n",
    "        print(\" \")\n",
    "        self.simulate_accounts(gold_account) \n",
    "        print(\" \")\n",
    "        self.simulate_accounts(saving_account)\n",
    "        print(f\"The total number of current and saving accounts is {AccountCounter.number_of_accounts}.\")"
   ]
  },
  {
   "cell_type": "code",
   "execution_count": 20,
   "id": "0f1caf52",
   "metadata": {},
   "outputs": [
    {
     "name": "stdout",
     "output_type": "stream",
     "text": [
      "\n",
      "The Number of Current and Saving Accounts Issued Version 4.0\n",
      "\n",
      "Bronze Account. Any one can get it.\n",
      " \n",
      "Silver Account. You have to earn minimun annual salary or have homeloan with ABCBank for ceratin minimum value.\n",
      " \n",
      "Gold Account. You have to earn minimun annual salary or have homeloan with ABCBank for ceratin minimum value.\n",
      " \n",
      "This account is locked until the customer reaches a certain minimun age.\n",
      "The total number of current and saving accounts is 4.\n"
     ]
    }
   ],
   "source": [
    "simulator4a = AccountSimulation4()\n",
    "simulator4a.simulate_service()"
   ]
  },
  {
   "cell_type": "markdown",
   "id": "0c43fe23",
   "metadata": {},
   "source": [
    "### Loan Counter Simulation5"
   ]
  },
  {
   "cell_type": "code",
   "execution_count": 21,
   "id": "2f7ff077",
   "metadata": {},
   "outputs": [],
   "source": [
    "class AccountSimulation5:\n",
    "            \n",
    "    def simulate_loans(self,count_loan ):\n",
    "        return count_loan.loan()\n",
    "        \n",
    "    def simulate_service(self):\n",
    "        \n",
    "        home_loan = LoanCounter(HomeLoan())\n",
    "        car_loan = LoanCounter(CarLoan())\n",
    "        personal_loan = LoanCounter(PersonalLoan())\n",
    "        \n",
    "        print(\"\\nTotal Number of Loans Issued Version 5.0\\n\")\n",
    "        \n",
    "        self.simulate_loans(home_loan)\n",
    "        print(\" \")\n",
    "        self.simulate_loans(car_loan)\n",
    "        print(\" \")\n",
    "        self.simulate_loans(personal_loan)\n",
    "        print(f\"The total number of loans issued is {LoanCounter.number_of_loans}.\")"
   ]
  },
  {
   "cell_type": "code",
   "execution_count": 22,
   "id": "83075dc9",
   "metadata": {},
   "outputs": [
    {
     "name": "stdout",
     "output_type": "stream",
     "text": [
      "\n",
      "Total Number of Loans Issued Version 5.0\n",
      "\n",
      "Mortgages given out by the ABCBank for reason of buying property. \n",
      " \n",
      "Car loan. Deposit is not required. Short repayment period.\n",
      " \n",
      "Personal loan. Deposit is not required, Short repayment period.\n",
      "The total number of loans issued is 3.\n"
     ]
    }
   ],
   "source": [
    "simulator5 = AccountSimulation5()\n",
    "simulator5.simulate_service()"
   ]
  },
  {
   "cell_type": "markdown",
   "id": "6aa4d39a",
   "metadata": {},
   "source": [
    "## Assurance of Consistant Account Creation Simulation6"
   ]
  },
  {
   "cell_type": "markdown",
   "id": "d934851c",
   "metadata": {},
   "source": [
    "> In object-oriented programming, the factory pattern deals with object creation by defining a template that allows subclasses to pick what to create. The factory method decouples the implementation of an object which can help with feature code and business expansion.\n",
    "\n",
    "> The concept of creating an object from its concrete implementation is sometimes less consistent than one thinks. Having a way to organize the creation of accounts in one class will help to maintain future expansion and the code editing process. \n"
   ]
  },
  {
   "cell_type": "code",
   "execution_count": 23,
   "id": "8fca5a15",
   "metadata": {},
   "outputs": [],
   "source": [
    "class AbstractProductFactory:\n",
    "    __metaclass__ = ABCMeta\n",
    "    \n",
    "    @abstractmethod\n",
    "    def create_bronze_acc(self):\n",
    "        pass\n",
    "    @abstractmethod\n",
    "    def create_silver_acc(self):\n",
    "        pass\n",
    "    @abstractmethod\n",
    "    def create_gold_acc(self):\n",
    "        pass\n",
    "    @abstractmethod\n",
    "    def create_pension_acc(self):\n",
    "        pass\n",
    "    @abstractmethod\n",
    "    def create_homeloan_acc(self):\n",
    "        pass\n",
    "    @abstractmethod\n",
    "    def create_carloan_acc(self):\n",
    "        pass\n",
    "    @abstractmethod\n",
    "    def create_personal_loan(self):\n",
    "        pass "
   ]
  },
  {
   "cell_type": "code",
   "execution_count": 24,
   "id": "1f873427",
   "metadata": {},
   "outputs": [],
   "source": [
    "class ConcreateProductFactory(AbstractProductFactory):\n",
    "    \n",
    "    def create_bronze_account(self):\n",
    "        return BronzeAccount()\n",
    "    \n",
    "    def create_silver_account(self):\n",
    "        return SilverAccount()\n",
    "    \n",
    "    def create_gold_account(self):\n",
    "        return GoldAccount()\n",
    "    \n",
    "    def create_pension_account(self):\n",
    "        return SavingsToBankAccountAdapter(Savings())\n",
    "    \n",
    "    def create_homeloan_account(self):\n",
    "        return HomeLoan()\n",
    "    \n",
    "    def create_carloan_account(self):\n",
    "        return CarLoan()\n",
    "    \n",
    "    def create_personalloan_account(self):\n",
    "        return PersonalLoan()"
   ]
  },
  {
   "cell_type": "code",
   "execution_count": 25,
   "id": "814413d4",
   "metadata": {},
   "outputs": [],
   "source": [
    "class AccountSimulation6:\n",
    "    def simulate_account_factory(self, current):\n",
    "        return current.account()    \n",
    "    \n",
    "    def simulate_loan_factory(self, various):\n",
    "        return various.loan()\n",
    "    \n",
    "    def simulate_product_factory(self):\n",
    "        bronze_account = ConcreateProductFactory().create_bronze_account()\n",
    "        silver_account = ConcreateProductFactory().create_silver_account()\n",
    "        gold_account = ConcreateProductFactory().create_gold_account()\n",
    "        pension_saving_account = ConcreateProductFactory().create_pension_account()\n",
    "        \n",
    "        home_loan = ConcreateProductFactory().create_homeloan_account()\n",
    "        car_loan = ConcreateProductFactory().create_carloan_account()\n",
    "        personal_loan = ConcreateProductFactory().create_personalloan_account()\n",
    "        \n",
    "        print(\"\\nEffective approach of opening current,saving and loan accounts. version 6.0\\n\")\n",
    "        print(\"It is consistent and uniformal.\\n\")\n",
    "        print(\"Current and Pension Saving Accounts\\n\")\n",
    "        self.simulate_account_factory(bronze_account)\n",
    "        print(\" \")\n",
    "        self.simulate_account_factory(silver_account)\n",
    "        print(\" \")\n",
    "        self.simulate_account_factory(gold_account)\n",
    "        print(\" \")\n",
    "        self.simulate_account_factory(pension_saving_account)\n",
    "        \n",
    "        print(\"\\nLoan Accounts\\n\")\n",
    "        self.simulate_loan_factory(home_loan)\n",
    "        print(\" \")\n",
    "        self.simulate_loan_factory(car_loan)\n",
    "        print(\" \")\n",
    "        self.simulate_loan_factory(personal_loan)"
   ]
  },
  {
   "cell_type": "code",
   "execution_count": 26,
   "id": "ae58c12a",
   "metadata": {},
   "outputs": [
    {
     "name": "stdout",
     "output_type": "stream",
     "text": [
      "\n",
      "Effective approach of opening current,saving and loan accounts. version 6.0\n",
      "\n",
      "It is consistent and uniformal.\n",
      "\n",
      "Current and Pension Saving Accounts\n",
      "\n",
      "Bronze Account. Any one can get it.\n",
      " \n",
      "Silver Account. You have to earn minimun annual salary or have homeloan with ABCBank for ceratin minimum value.\n",
      " \n",
      "Gold Account. You have to earn minimun annual salary or have homeloan with ABCBank for ceratin minimum value.\n",
      " \n",
      "This account is locked until the customer reaches a certain minimun age.\n",
      "\n",
      "Loan Accounts\n",
      "\n",
      "Mortgages given out by the ABCBank for reason of buying property. \n",
      " \n",
      "Car loan. Deposit is not required. Short repayment period.\n",
      " \n",
      "Personal loan. Deposit is not required, Short repayment period.\n"
     ]
    }
   ],
   "source": [
    "simulator6 = AccountSimulation6()\n",
    "simulator6.simulate_product_factory()"
   ]
  },
  {
   "cell_type": "markdown",
   "id": "3138298c",
   "metadata": {},
   "source": [
    "## Assurance of Consistant Counted Account Creation Simulation7"
   ]
  },
  {
   "cell_type": "markdown",
   "id": "b1e744e9",
   "metadata": {},
   "source": [
    "#### The following simulation will assume that the each product creation is counted.\n",
    "\n",
    "> The assumption is taken because every account creation has to be accounted for and reported for financial reporting purposes. It is also essential to measure performance and utilization of product type. "
   ]
  },
  {
   "cell_type": "code",
   "execution_count": 27,
   "id": "9531c809",
   "metadata": {},
   "outputs": [],
   "source": [
    "class CountingProductFactory(AbstractProductFactory):\n",
    "    \n",
    "    def create_bronze_account(self):\n",
    "        return AccountCounter(BronzeAccount())\n",
    "    \n",
    "    def create_silver_account(self):\n",
    "        return AccountCounter(SilverAccount())\n",
    "    \n",
    "    def create_gold_account(self):\n",
    "        return AccountCounter(GoldAccount())\n",
    "    \n",
    "    def create_pension_account(self):\n",
    "        return SavingsToBankAccountAdapter(Savings())\n",
    "    \n",
    "    def create_homeloan_account(self):\n",
    "        return LoanCounter(HomeLoan())\n",
    "    \n",
    "    def create_carloan_account(self):\n",
    "        return LoanCounter(CarLoan())\n",
    "    \n",
    "    def create_personalloan_account(self):\n",
    "        return LoanCounter(PersonalLoan())      "
   ]
  },
  {
   "cell_type": "code",
   "execution_count": 28,
   "id": "71a3c6ce",
   "metadata": {},
   "outputs": [],
   "source": [
    "class AccountSimulation7:\n",
    "    def simulate_countable_account(self, current):\n",
    "        return current.account()\n",
    "    \n",
    "    def simulate_countable_loan(self, various):\n",
    "        return various.loan()\n",
    "    \n",
    "    def simulate_countable_products(self):\n",
    "        bronze_account = AccountCounter(BronzeAccount())\n",
    "        silver_account = AccountCounter(SilverAccount())\n",
    "        gold_account = AccountCounter(GoldAccount())\n",
    "        saving_account = AccountCounter(SavingsToBankAccountAdapter(Savings()))\n",
    "        \n",
    "        \n",
    "        home_loan = LoanCounter(HomeLoan())\n",
    "        car_loan = LoanCounter(CarLoan())\n",
    "        personal_loan = LoanCounter(PersonalLoan())\n",
    "        \n",
    "        print(\"\\nTotal Number of current and pension saving accounts Issued Version 6.0\\n\")\n",
    "        self.simulate_countable_account(bronze_account)\n",
    "        print(\" \")\n",
    "        self.simulate_countable_account(silver_account)\n",
    "        print(\" \")\n",
    "        self.simulate_countable_account(gold_account)\n",
    "        print(\" \")\n",
    "        self.simulate_countable_account(saving_account)\n",
    "        print(f'The total of {AccountCounter.get_account()} current and saving accounts have been issued.')\n",
    "        \n",
    "        print(\"\\nTotal Number of Loans Issued Version 6.0\\n\")\n",
    "        self.simulate_countable_loan(home_loan)\n",
    "        print(\" \")\n",
    "        self.simulate_countable_loan(car_loan)\n",
    "        print(\" \")\n",
    "        self.simulate_countable_loan(personal_loan)\n",
    "        \n",
    "        print(f'\\nThe total of {LoanCounter.get_account()} loans have been issued.')    "
   ]
  },
  {
   "cell_type": "code",
   "execution_count": 29,
   "id": "32fca889",
   "metadata": {},
   "outputs": [
    {
     "name": "stdout",
     "output_type": "stream",
     "text": [
      "\n",
      "Total Number of current and pension saving accounts Issued Version 6.0\n",
      "\n",
      "Bronze Account. Any one can get it.\n",
      " \n",
      "Silver Account. You have to earn minimun annual salary or have homeloan with ABCBank for ceratin minimum value.\n",
      " \n",
      "Gold Account. You have to earn minimun annual salary or have homeloan with ABCBank for ceratin minimum value.\n",
      " \n",
      "This account is locked until the customer reaches a certain minimun age.\n",
      "The total of 8 current and saving accounts have been issued.\n",
      "\n",
      "Total Number of Loans Issued Version 6.0\n",
      "\n",
      "Mortgages given out by the ABCBank for reason of buying property. \n",
      " \n",
      "Car loan. Deposit is not required. Short repayment period.\n",
      " \n",
      "Personal loan. Deposit is not required, Short repayment period.\n",
      "\n",
      "The total of 6 loans have been issued.\n"
     ]
    }
   ],
   "source": [
    "simulator7 = AccountSimulation7()\n",
    "simulator7.simulate_countable_products()"
   ]
  },
  {
   "cell_type": "markdown",
   "id": "eaab2fd3",
   "metadata": {},
   "source": [
    "## Structured Communication with Customers."
   ]
  },
  {
   "cell_type": "markdown",
   "id": "4b04ce49",
   "metadata": {},
   "source": [
    "> The following simulation will focus on how ABCBank can actively send Bulk notifications or messages to its customers. This structured communication will allow ABCBank to communicate its operational information with its customers with little effort."
   ]
  },
  {
   "cell_type": "markdown",
   "id": "27378b7c",
   "metadata": {},
   "source": [
    "## Communication Simulation7"
   ]
  },
  {
   "cell_type": "code",
   "execution_count": 30,
   "id": "fd15e0af",
   "metadata": {},
   "outputs": [],
   "source": [
    "class CustomersGroup (BankAccount):\n",
    "    def __init__(self):\n",
    "        self.__debitCustomers = []\n",
    "        self.__loanCustomers = []\n",
    "        \n",
    "    def add_debit_customers(self,customer):\n",
    "        self.__debitCustomers.append(customer)\n",
    "        \n",
    "    def add_loan_customers(self,lcustomer):\n",
    "        self.__loanCustomers.append(lcustomer)\n",
    "        \n",
    "    def add_all_customers(self,tcustomer):\n",
    "        self.__allCustomers.append(tcustomer)\n",
    "        \n",
    "    def account(self):\n",
    "        for customer in self.__debitCustomers:\n",
    "            customer.account()\n",
    "            \n",
    "    def loan(self):        \n",
    "        for lcustomer in self.__loanCustomers:\n",
    "            lcustomer.loan()\n",
    "            \n",
    "    def __str__(self):\n",
    "        return \"Debit and credit account customers grouped.\""
   ]
  },
  {
   "cell_type": "code",
   "execution_count": 31,
   "id": "054bfcf1",
   "metadata": {},
   "outputs": [],
   "source": [
    "class GroupSimulation7:\n",
    "    def simulate_account(self, customer):\n",
    "        return customer.account()\n",
    "    def simulate_loan(self,lcustomer):\n",
    "        return lcustomer.loan()\n",
    "\n",
    "    def simulate_group_account(self):\n",
    "        group_customers = CustomersGroup()\n",
    "        group_customers.add_debit_customers(CountingProductFactory().create_bronze_account())\n",
    "        group_customers.add_debit_customers(CountingProductFactory().create_silver_account())\n",
    "        group_customers.add_debit_customers(CountingProductFactory().create_gold_account())\n",
    "        group_customers.add_debit_customers(CountingProductFactory().create_pension_account())\n",
    "        \n",
    "        \n",
    "        \n",
    "        group_loan_customers = CustomersGroup()\n",
    "        group_loan_customers.add_loan_customers(CountingProductFactory().create_homeloan_account())\n",
    "        group_loan_customers.add_loan_customers(CountingProductFactory().create_carloan_account())\n",
    "        group_loan_customers.add_loan_customers(CountingProductFactory().create_personalloan_account())\n",
    "        \n",
    "            \n",
    "        print(\"Version 7.0\\n\")\n",
    "        print(\"Grouping makes communication easy.\\n\")\n",
    "        print(\"Grouped Bronze account holders\\n\")\n",
    "    \n",
    "        group_bronze = CustomersGroup()\n",
    "        for i in range(5):\n",
    "            group_bronze.add_debit_customers(ConcreateProductFactory().create_bronze_account())\n",
    "            print (group_bronze)\n",
    "        \n",
    "        print(\"\\nGrouped loan account holders\\n\")\n",
    "        group_home_loan = CustomersGroup()\n",
    "        for i in range(5):\n",
    "            group_home_loan.add_loan_customers(ConcreateProductFactory().create_homeloan_account())\n",
    "            print(group_home_loan)\n",
    "    "
   ]
  },
  {
   "cell_type": "code",
   "execution_count": 32,
   "id": "c5543b9a",
   "metadata": {},
   "outputs": [
    {
     "name": "stdout",
     "output_type": "stream",
     "text": [
      "Version 7.0\n",
      "\n",
      "Grouping makes communication easy.\n",
      "\n",
      "Grouped Bronze account holders\n",
      "\n",
      "Debit and credit account customers grouped.\n",
      "Debit and credit account customers grouped.\n",
      "Debit and credit account customers grouped.\n",
      "Debit and credit account customers grouped.\n",
      "Debit and credit account customers grouped.\n",
      "\n",
      "Grouped loan account holders\n",
      "\n",
      "Debit and credit account customers grouped.\n",
      "Debit and credit account customers grouped.\n",
      "Debit and credit account customers grouped.\n",
      "Debit and credit account customers grouped.\n",
      "Debit and credit account customers grouped.\n"
     ]
    }
   ],
   "source": [
    "simulator7 = GroupSimulation7()\n",
    "simulator7.simulate_group_account()"
   ]
  },
  {
   "cell_type": "markdown",
   "id": "0d49d3d3",
   "metadata": {},
   "source": [
    "### HomeLoan Base Interest"
   ]
  },
  {
   "cell_type": "markdown",
   "id": "dd7949f6",
   "metadata": {},
   "source": [
    "> The functionality this report will cover next is the ability to subscribe to receive the base interest for ABC's nominal home loan. The home loan owners' nominal interest is calculated based on the base rate that ABC Bank pays to acquire the money from the prime lender, additional interest rate by **ABC Bank**, and several other factors that the customer has to fulfill.\n",
    "\n",
    "> The observer pattern is suited for this case. It allows the bank to follow the base interest rate the prime lender charges and update its mortgage interest accordingly. The observer pattern can enable ABCBank to follow more lenders' interest changes after subscription."
   ]
  },
  {
   "cell_type": "markdown",
   "id": "5dde66b2",
   "metadata": {},
   "source": [
    "### ABC's Prime Lender Interest rate Tracker Simulation8"
   ]
  },
  {
   "cell_type": "code",
   "execution_count": 33,
   "id": "e4667eed",
   "metadata": {},
   "outputs": [],
   "source": [
    "class PrimeLender:\n",
    "    '''This is the PUBLISHER'''\n",
    "    \n",
    "    __metaclass__ = ABCMeta\n",
    "    \n",
    "    @abstractmethod\n",
    "    def register_observer(self,observer):\n",
    "        '''required'''\n",
    "    \n",
    "    @abstractmethod\n",
    "    def remove_observer(self, observer):\n",
    "        '''required'''\n",
    "    \n",
    "    @abstractmethod\n",
    "    def _notify_observers(self):\n",
    "        '''required''' "
   ]
  },
  {
   "cell_type": "code",
   "execution_count": 34,
   "id": "a8bb19c8",
   "metadata": {},
   "outputs": [],
   "source": [
    "class InterestObserver:\n",
    "    '''This is the Observer In this case ABCBank.'''\n",
    "    __metaclass__ = ABCMeta\n",
    "    \n",
    "    def __init__(self):\n",
    "        self._subject = None\n",
    "        self._observer_state = None\n",
    "    \n",
    "    @abstractmethod\n",
    "    def update_base_interest_rate(self,prime_lender, base_interst):\n",
    "        '''required'''"
   ]
  },
  {
   "cell_type": "code",
   "execution_count": 35,
   "id": "58821fd0",
   "metadata": {},
   "outputs": [],
   "source": [
    "class PrimeLenderInterest(BankAccount,PrimeLender):\n",
    "    _prime_lender = None\n",
    "    _base_interest = None\n",
    "    \n",
    "    def __init__(self,prime_lender,base_interest):\n",
    "        self._observers = set()\n",
    "        self._subject_state = None\n",
    "        self._prime_lender = prime_lender\n",
    "        self._base_interest = base_interest\n",
    "        \n",
    "    def register_observer(self, observer):\n",
    "        observer._subject = self\n",
    "        self._observers.add(observer)\n",
    "    \n",
    "    def remove_observer(self, observer):\n",
    "        observer._subject = None\n",
    "        self._observers.discard(observer)\n",
    "    \n",
    "    def _notify_observers(self):\n",
    "        '''This allows the observers to update the current interest rate.'''\n",
    "        for observer in self._observers:\n",
    "            observer.update_interest_rate(self._prime_lender,self._base_interest)\n",
    "    \n",
    "    def interest_rate_change(self, new_interest):\n",
    "        self._base_interest = new_interest\n",
    "        self._notify_observers()\n",
    "        \n",
    "    \n",
    "    def loan(self):\n",
    "        print(\"Home Loan\")\n",
    "        \n",
    "    def __str__(self):\n",
    "        print(\"Home Loan that tracks base interest rate.\")\n",
    "            "
   ]
  },
  {
   "cell_type": "code",
   "execution_count": 36,
   "id": "8cc5996a",
   "metadata": {},
   "outputs": [],
   "source": [
    "class AbcObserver(InterestObserver):\n",
    "    def __init__(self, interest_data):\n",
    "        self._interest_data = interest_data\n",
    "        self._interest_data.register_observer(self)\n",
    "        \n",
    "    def remove_abc(self):\n",
    "        self._interest_data.remove_observer(self)\n",
    "        \n",
    "    def add_abc(self,prime_loaner):\n",
    "        self._interest_data = interest_data\n",
    "        self._interest_data.register_observer(self)\n",
    "        \n",
    "    def update_interest_rate(self,prime_lender,interest_data):\n",
    "        print(f'The interest rate is changed by {prime_lender}. It is now {interest_data}.')\n",
    "        \n",
    "        "
   ]
  },
  {
   "cell_type": "code",
   "execution_count": 37,
   "id": "2409ddd5",
   "metadata": {},
   "outputs": [],
   "source": [
    "class InterestRateSimulation8:\n",
    "    _home_loan = None\n",
    "    \n",
    "    def simulate_loan(self,prime_loan):\n",
    "        prime_loan.loan()\n",
    "    \n",
    "    def simulate_group_loan(self):\n",
    "        \n",
    "        group_loan_customers = CustomersGroup()\n",
    "        group_loan_customers.add_loan_customers(CountingProductFactory().create_homeloan_account())\n",
    "        \n",
    "        group_loan_customers.add_loan_customers(CountingProductFactory().create_carloan_account())\n",
    "\n",
    "        group_loan_customers.add_loan_customers(CountingProductFactory().create_personalloan_account())\n",
    "\n",
    "        interest_charge = PrimeLenderInterest(\"Prime lender Goldsmom\",\"7.2%\" )        \n",
    "        group_loan_customers.add_loan_customers(interest_charge)\n",
    "        \n",
    "        \n",
    "        home_loan = AbcObserver(interest_charge)\n",
    "\n",
    "        group_home_loan = CustomersGroup()\n",
    "        for i in range(5):\n",
    "            group_home_loan.add_loan_customers(ConcreateProductFactory().create_homeloan_account())\n",
    "        \n",
    "        print ('\\nPrime lender interest rate tracker version 8.\\n')\n",
    "        print(\"\\nHome loan now tracks the prime lenders interest charge.\\nThis will help to calculate the interest accrual of mortgage account holder.\\n \")\n",
    "        self.simulate_loan(group_loan_customers)\n",
    "        \n",
    "        print(f'\\nThere were {LoanCounter.get_account()} home loans issued.\\n') \n",
    "        self.simulate_loan(group_home_loan)\n",
    "        print(\" \")\n",
    "        '''The interest tracker tracks the shift in interest rate.'''\n",
    "        interest_charge.interest_rate_change(\"7.6%\")"
   ]
  },
  {
   "cell_type": "code",
   "execution_count": 38,
   "id": "11061f21",
   "metadata": {},
   "outputs": [
    {
     "name": "stdout",
     "output_type": "stream",
     "text": [
      "\n",
      "Prime lender interest rate tracker version 8.\n",
      "\n",
      "\n",
      "Home loan now tracks the prime lenders interest charge.\n",
      "This will help to calculate the interest accrual of mortgage account holder.\n",
      " \n",
      "Mortgages given out by the ABCBank for reason of buying property. \n",
      "Car loan. Deposit is not required. Short repayment period.\n",
      "Personal loan. Deposit is not required, Short repayment period.\n",
      "Home Loan\n",
      "\n",
      "There were 9 home loans issued.\n",
      "\n",
      "Mortgages given out by the ABCBank for reason of buying property. \n",
      "Mortgages given out by the ABCBank for reason of buying property. \n",
      "Mortgages given out by the ABCBank for reason of buying property. \n",
      "Mortgages given out by the ABCBank for reason of buying property. \n",
      "Mortgages given out by the ABCBank for reason of buying property. \n",
      " \n",
      "The interest rate is changed by Prime lender Goldsmom. It is now 7.6%.\n"
     ]
    }
   ],
   "source": [
    "simulator8 = InterestRateSimulation8()\n",
    "simulator8.simulate_group_loan()"
   ]
  },
  {
   "cell_type": "code",
   "execution_count": null,
   "id": "0f096d9e",
   "metadata": {},
   "outputs": [],
   "source": []
  }
 ],
 "metadata": {
  "kernelspec": {
   "display_name": "Python 3 (ipykernel)",
   "language": "python",
   "name": "python3"
  },
  "language_info": {
   "codemirror_mode": {
    "name": "ipython",
    "version": 3
   },
   "file_extension": ".py",
   "mimetype": "text/x-python",
   "name": "python",
   "nbconvert_exporter": "python",
   "pygments_lexer": "ipython3",
   "version": "3.11.4"
  }
 },
 "nbformat": 4,
 "nbformat_minor": 5
}
